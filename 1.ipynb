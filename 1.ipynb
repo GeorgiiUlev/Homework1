{
 "cells": [
  {
   "cell_type": "code",
   "execution_count": 34,
   "metadata": {},
   "outputs": [
    {
     "name": "stdin",
     "output_type": "stream",
     "text": [
      " 0.1\n"
     ]
    },
    {
     "name": "stdout",
     "output_type": "stream",
     "text": [
      "0.760210472720163\n",
      "0.4239789527279837\n",
      "0.29093543806053496\n",
      "0.2209064561939465\n",
      "0.17790935438060534\n",
      "0.14887573122860612\n",
      "0.12796956973428225\n",
      "0.11220304302657177\n",
      "0.09989080680845393\n",
      "0.09001091931915461\n",
      "0.08190799897717545\n",
      "0.07514253343561578\n",
      "0.06940882357951535\n",
      "0.06448768907061989\n",
      "0.06021789775960468\n",
      "0.05647821022403953\n",
      "0.053175708389360754\n",
      "0.05023798471661948\n",
      "0.04760778047570647\n",
      "0.045239221952429354\n",
      "0.043095125423804684\n",
      "0.04114503291216499\n",
      "0.039363757578348715\n",
      "0.037730290908831794\n",
      "0.03622697090911682\n"
     ]
    }
   ],
   "source": [
    "import numpy as np\n",
    "import matplotlib.pyplot as plt\n",
    "a = float(input())\n",
    "I=np.log(1+a)-np.log(a)\n",
    "n = 0\n",
    "while n != 25 :\n",
    "    I = 1 / (n + 1) - a * I\n",
    "    n+=1\n",
    "    print(I)\n",
    "    "
   ]
  },
  {
   "cell_type": "code",
   "execution_count": 36,
   "metadata": {},
   "outputs": [
    {
     "name": "stdin",
     "output_type": "stream",
     "text": [
      " 25\n"
     ]
    },
    {
     "name": "stdout",
     "output_type": "stream",
     "text": [
      "1.04\n",
      "0.9566666666666667\n",
      "0.9184057971014492\n",
      "0.8782542819499342\n",
      "0.8381783675261936\n",
      "0.7980910816236902\n",
      "0.7579952062303321\n",
      "0.717889155209426\n",
      "0.6777712261641514\n",
      "0.6376392983647405\n",
      "0.5974907134423506\n",
      "0.5573220918969749\n",
      "0.5171290698540789\n",
      "0.47690591084549344\n",
      "0.43664491719586424\n",
      "0.3963355082804136\n",
      "0.3559627213021763\n",
      "0.315504659837228\n",
      "0.2749279057375389\n",
      "0.23417868237707687\n",
      "0.1931642635245846\n",
      "0.15170893411885386\n",
      "0.10943035529371539\n",
      "0.0652848223531423\n",
      "0.014715177646857702\n"
     ]
    }
   ],
   "source": [
    "import numpy as np\n",
    "import matplotlib.pyplot as plt\n",
    "a = float(input())\n",
    "I = 0\n",
    "n = 25\n",
    "while n != 0 :\n",
    "    I = 1 / a*(n + 1) - I / n\n",
    "    n-=1\n",
    "    print(I)"
   ]
  },
  {
   "cell_type": "code",
   "execution_count": null,
   "metadata": {},
   "outputs": [],
   "source": []
  },
  {
   "cell_type": "code",
   "execution_count": null,
   "metadata": {},
   "outputs": [],
   "source": []
  }
 ],
 "metadata": {
  "kernelspec": {
   "display_name": "Python 3",
   "language": "python",
   "name": "python3"
  },
  "language_info": {
   "codemirror_mode": {
    "name": "ipython",
    "version": 3
   },
   "file_extension": ".py",
   "mimetype": "text/x-python",
   "name": "python",
   "nbconvert_exporter": "python",
   "pygments_lexer": "ipython3",
   "version": "3.8.3"
  }
 },
 "nbformat": 4,
 "nbformat_minor": 4
}
